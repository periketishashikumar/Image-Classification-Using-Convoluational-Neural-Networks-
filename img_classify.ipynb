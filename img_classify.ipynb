{
 "cells": [
  {
   "cell_type": "markdown",
   "id": "41df8c5b",
   "metadata": {},
   "source": [
    "# Importing Modules"
   ]
  },
  {
   "cell_type": "code",
   "execution_count": 1,
   "id": "aa73957f",
   "metadata": {},
   "outputs": [
    {
     "name": "stderr",
     "output_type": "stream",
     "text": [
      "C:\\Users\\asus\\anaconda3\\lib\\site-packages\\scipy\\__init__.py:155: UserWarning: A NumPy version >=1.18.5 and <1.25.0 is required for this version of SciPy (detected version 1.26.3\n",
      "  warnings.warn(f\"A NumPy version >={np_minversion} and <{np_maxversion}\"\n"
     ]
    },
    {
     "name": "stdout",
     "output_type": "stream",
     "text": [
      "WARNING:tensorflow:From C:\\Users\\asus\\anaconda3\\lib\\site-packages\\keras\\src\\losses.py:2976: The name tf.losses.sparse_softmax_cross_entropy is deprecated. Please use tf.compat.v1.losses.sparse_softmax_cross_entropy instead.\n",
      "\n"
     ]
    }
   ],
   "source": [
    "import numpy as np\n",
    "import tensorflow as tf\n",
    "from tensorflow.keras import Sequential\n",
    "from tensorflow.keras.layers import Conv2D,Dense,Flatten,AveragePooling2D\n",
    "import os\n",
    "import cv2\n",
    "import matplotlib.pyplot as plt\n",
    "import random\n",
    "from sklearn.model_selection import train_test_split"
   ]
  },
  {
   "cell_type": "markdown",
   "id": "c5cac5aa",
   "metadata": {},
   "source": [
    "# Loading Dataset"
   ]
  },
  {
   "cell_type": "code",
   "execution_count": 2,
   "id": "b737b4a0",
   "metadata": {},
   "outputs": [],
   "source": [
    "DIRECTORY=\"C:\\\\Users\\\\asus\\\\Downloads\\\\archive (8)\\\\dogscats\\\\train\"\n",
    "CATEGORY=['dogs','cats']"
   ]
  },
  {
   "cell_type": "markdown",
   "id": "dc5f747f",
   "metadata": {},
   "source": [
    "# Preprocessing Data"
   ]
  },
  {
   "cell_type": "code",
   "execution_count": 3,
   "id": "6f52cae2",
   "metadata": {},
   "outputs": [],
   "source": [
    "data=[]\n",
    "image_size=64\n",
    "for category in CATEGORY:\n",
    "    img_dir=os.path.join(DIRECTORY,category)#joining the class directries to the existing directory \n",
    "    for images in os.listdir(img_dir):\n",
    "        img_path=os.path.join(img_dir,images)#joining all the images directories inside the class directory \n",
    "        label=CATEGORY.index(category)\n",
    "        image_arr=cv2.imread(img_path)#converting images into an array\n",
    "        image_arr=cv2.resize(image_arr, (image_size,image_size))#resizing the images size to be equal \n",
    "        data.append([image_arr,label])#storing these array of images into a list to perform furture classifications\n",
    "        \n",
    "random.shuffle(data)#shuffling the dataset elements for the better results \n",
    "#loading the inputs in a list 'x' and labels in another list 'y'\n",
    "x=[]\n",
    "y=[]\n",
    "for i,j in data:\n",
    "    x.append(i)\n",
    "    y.append(j)\n",
    "x=np.array(x)\n",
    "y=np.array(y)\n",
    "x=x/255 #assaigning pixel value in the range(0,1)\n",
    "x.shape\n",
    "#splitting the dataset for the testing of accuracy \n",
    "x_train,x_test,y_train,y_test=train_test_split(x,y,test_size=0.2,random_state=42)"
   ]
  },
  {
   "cell_type": "markdown",
   "id": "044bb84d",
   "metadata": {},
   "source": [
    "# Creating the CNN for feature extraction"
   ]
  },
  {
   "cell_type": "code",
   "execution_count": 4,
   "id": "56fb369a",
   "metadata": {},
   "outputs": [
    {
     "name": "stdout",
     "output_type": "stream",
     "text": [
      "WARNING:tensorflow:From C:\\Users\\asus\\anaconda3\\lib\\site-packages\\keras\\src\\backend.py:873: The name tf.get_default_graph is deprecated. Please use tf.compat.v1.get_default_graph instead.\n",
      "\n"
     ]
    }
   ],
   "source": [
    "model=Sequential()\n",
    "model.add(Conv2D(16,strides=(1,1),kernel_size=3,activation='ReLU'))#dot product of kernel matrics and input array\n",
    "model.add(AveragePooling2D(strides=(2,2)))#collecting the average values from the output matrics of convo layer\n",
    "model.add(Conv2D(128,strides=(1,1),kernel_size=3,activation='ReLU'))#repeat the kernel process of dot product\n",
    "model.add(AveragePooling2D(strides=(2,2)))#taking the average value from the output of previous layer\n",
    "model.add(Flatten())#converting all the values into one single column to fed to the fully connected neral network(Dense)\n",
    "model.add(Dense(128,activation='ReLU'))#fully connected neural network\n",
    "model.add(Dense(1,activation='sigmoid'))#output layer"
   ]
  },
  {
   "cell_type": "markdown",
   "id": "951fd495",
   "metadata": {},
   "source": [
    "# Configuration Of Neural Network"
   ]
  },
  {
   "cell_type": "code",
   "execution_count": 5,
   "id": "84f9898e",
   "metadata": {},
   "outputs": [
    {
     "name": "stdout",
     "output_type": "stream",
     "text": [
      "WARNING:tensorflow:From C:\\Users\\asus\\anaconda3\\lib\\site-packages\\keras\\src\\optimizers\\__init__.py:309: The name tf.train.Optimizer is deprecated. Please use tf.compat.v1.train.Optimizer instead.\n",
      "\n"
     ]
    }
   ],
   "source": [
    "model.compile(optimizer='adam',loss='binary_crossentropy',metrics=['accuracy'])"
   ]
  },
  {
   "cell_type": "markdown",
   "id": "cc2ab8c6",
   "metadata": {},
   "source": [
    "# Training Neural Network"
   ]
  },
  {
   "cell_type": "code",
   "execution_count": 6,
   "id": "d7dbf130",
   "metadata": {},
   "outputs": [
    {
     "name": "stdout",
     "output_type": "stream",
     "text": [
      "Epoch 1/15\n",
      "WARNING:tensorflow:From C:\\Users\\asus\\anaconda3\\lib\\site-packages\\keras\\src\\utils\\tf_utils.py:492: The name tf.ragged.RaggedTensorValue is deprecated. Please use tf.compat.v1.ragged.RaggedTensorValue instead.\n",
      "\n",
      "WARNING:tensorflow:From C:\\Users\\asus\\anaconda3\\lib\\site-packages\\keras\\src\\engine\\base_layer_utils.py:384: The name tf.executing_eagerly_outside_functions is deprecated. Please use tf.compat.v1.executing_eagerly_outside_functions instead.\n",
      "\n",
      "518/518 [==============================] - 22s 41ms/step - loss: 0.6305 - accuracy: 0.6425 - val_loss: 0.5810 - val_accuracy: 0.6864\n",
      "Epoch 2/15\n",
      "518/518 [==============================] - 22s 42ms/step - loss: 0.5569 - accuracy: 0.7136 - val_loss: 0.5357 - val_accuracy: 0.7342\n",
      "Epoch 3/15\n",
      "518/518 [==============================] - 22s 42ms/step - loss: 0.4985 - accuracy: 0.7579 - val_loss: 0.4857 - val_accuracy: 0.7685\n",
      "Epoch 4/15\n",
      "518/518 [==============================] - 22s 42ms/step - loss: 0.4526 - accuracy: 0.7896 - val_loss: 0.4716 - val_accuracy: 0.7793\n",
      "Epoch 5/15\n",
      "518/518 [==============================] - 22s 42ms/step - loss: 0.4047 - accuracy: 0.8129 - val_loss: 0.4401 - val_accuracy: 0.7962\n",
      "Epoch 6/15\n",
      "518/518 [==============================] - 22s 42ms/step - loss: 0.3546 - accuracy: 0.8434 - val_loss: 0.4957 - val_accuracy: 0.7755\n",
      "Epoch 7/15\n",
      "518/518 [==============================] - 22s 42ms/step - loss: 0.3058 - accuracy: 0.8708 - val_loss: 0.5013 - val_accuracy: 0.7728\n",
      "Epoch 8/15\n",
      "518/518 [==============================] - 22s 43ms/step - loss: 0.2512 - accuracy: 0.8953 - val_loss: 0.5236 - val_accuracy: 0.7793\n",
      "Epoch 9/15\n",
      "518/518 [==============================] - 23s 45ms/step - loss: 0.1850 - accuracy: 0.9282 - val_loss: 0.5644 - val_accuracy: 0.7842\n",
      "Epoch 10/15\n",
      "518/518 [==============================] - 22s 43ms/step - loss: 0.1287 - accuracy: 0.9519 - val_loss: 0.6562 - val_accuracy: 0.7777\n",
      "Epoch 11/15\n",
      "518/518 [==============================] - 21s 41ms/step - loss: 0.0850 - accuracy: 0.9722 - val_loss: 0.7506 - val_accuracy: 0.7788\n",
      "Epoch 12/15\n",
      "518/518 [==============================] - 22s 43ms/step - loss: 0.0542 - accuracy: 0.9838 - val_loss: 0.8209 - val_accuracy: 0.7864\n",
      "Epoch 13/15\n",
      "518/518 [==============================] - 22s 42ms/step - loss: 0.0395 - accuracy: 0.9877 - val_loss: 0.8753 - val_accuracy: 0.7864\n",
      "Epoch 14/15\n",
      "518/518 [==============================] - 22s 42ms/step - loss: 0.0278 - accuracy: 0.9934 - val_loss: 1.0770 - val_accuracy: 0.7788\n",
      "Epoch 15/15\n",
      "518/518 [==============================] - 22s 42ms/step - loss: 0.0269 - accuracy: 0.9921 - val_loss: 1.0035 - val_accuracy: 0.7870\n"
     ]
    },
    {
     "data": {
      "text/plain": [
       "<keras.src.callbacks.History at 0x1391ff86dc0>"
      ]
     },
     "execution_count": 6,
     "metadata": {},
     "output_type": "execute_result"
    }
   ],
   "source": [
    "model.fit(x_train,y_train,epochs=15,validation_split=0.1)"
   ]
  },
  {
   "cell_type": "markdown",
   "id": "082c8b9b",
   "metadata": {},
   "source": [
    "# Evaluating for the accuracy"
   ]
  },
  {
   "cell_type": "code",
   "execution_count": 7,
   "id": "1a4c3c3d",
   "metadata": {},
   "outputs": [
    {
     "name": "stdout",
     "output_type": "stream",
     "text": [
      "144/144 [==============================] - 1s 8ms/step - loss: 1.0219 - accuracy: 0.7807\n",
      "Test Accuracy: 78.07%\n"
     ]
    }
   ],
   "source": [
    "evaluation=model.evaluate(x_test,y_test)\n",
    "print(f\"Test Accuracy: {evaluation[1] * 100:.2f}%\")"
   ]
  },
  {
   "cell_type": "markdown",
   "id": "acad0967",
   "metadata": {},
   "source": [
    "# Prediction"
   ]
  },
  {
   "cell_type": "code",
   "execution_count": 8,
   "id": "eebc2f14",
   "metadata": {},
   "outputs": [
    {
     "name": "stdout",
     "output_type": "stream",
     "text": [
      "1/1 [==============================] - 0s 92ms/step\n",
      "The model predicts that the image is a Cat.\n"
     ]
    },
    {
     "data": {
      "image/png": "[encoded data removed]",
      "text/plain": [
       "<Figure size 640x480 with 1 Axes>"
      ]
     },
     "metadata": {},
     "output_type": "display_data"
    }
   ],
   "source": [
    "# Load the image you want to predict\n",
    "image_path =\"C:/Users/asus/Downloads/archive (8)/dogscats/train/cats/cat.9957.jpg\"\n",
    "new_image = cv2.imread(image_path)\n",
    "new_image = cv2.resize(new_image, (image_size, image_size))  # Resize to match your model's input size\n",
    "new_image = np.array([new_image / 255.0])  # Normalize the pixel values and convert to a numpy array\n",
    "\n",
    "# Make predictions\n",
    "predictions = model.predict(new_image)\n",
    "\n",
    "# Convert the prediction to a human-readable label\n",
    "predicted_label = \"Cat\" if predictions[0][0] > 0.5 else \"Dog\"\n",
    "\n",
    "print(f\"The model predicts that the image is a {predicted_label}.\")\n",
    "# Display the image\n",
    "plt.imshow(new_image[0], cmap='gray')  # Specify 'gray' colormap for grayscale images\n",
    "plt.show()"
   ]
  },
  {
   "cell_type": "code",
   "execution_count": null,
   "id": "a80a0bb0",
   "metadata": {},
   "outputs": [],
   "source": []
  }
 ],
 "metadata": {
  "kernelspec": {
   "display_name": "Python 3 (ipykernel)",
   "language": "python",
   "name": "python3"
  },
  "language_info": {
   "codemirror_mode": {
    "name": "ipython",
    "version": 3
   },
   "file_extension": ".py",
   "mimetype": "text/x-python",
   "name": "python",
   "nbconvert_exporter": "python",
   "pygments_lexer": "ipython3",
   "version": "3.9.13"
  }
 },
 "nbformat": 4,
 "nbformat_minor": 5
}
